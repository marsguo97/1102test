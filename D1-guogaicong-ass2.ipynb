{
 "cells": [
  {
   "cell_type": "markdown",
   "metadata": {},
   "source": [
    "# Assignment 2"
   ]
  },
  {
   "cell_type": "markdown",
   "metadata": {},
   "source": [
    "1. 利用下面的phrase,使用切片的方法，生成一個new_phase,'Use it!'.\n",
    "\n",
    "phrase=\"Let's just do it!\""
   ]
  },
  {
   "cell_type": "code",
   "execution_count": 2,
   "metadata": {},
   "outputs": [
    {
     "name": "stdout",
     "output_type": "stream",
     "text": [
      "Use it!\n"
     ]
    }
   ],
   "source": [
    "phrase = \"Let's just do it!\"\n",
    "new_phrase = \"\".join([phrase[7:9],phrase[1],phrase[5],phrase[-3:]])\n",
    "print(new_phrase.capitalize())"
   ]
  },
  {
   "cell_type": "code",
   "execution_count": 29,
   "metadata": {},
   "outputs": [
    {
     "name": "stdout",
     "output_type": "stream",
     "text": [
      "input: aabbSSaA\n",
      "[('a', 4), ('b', 2), ('s', 2)]\n"
     ]
    }
   ],
   "source": [
    "data=input('input: ')\n",
    "data=data.lower()\n",
    "Dict={}\n",
    "for i in set(data):\n",
    "    Dict.setdefault(i,0)\n",
    "    Dict[i]=data.count(i)\n",
    "print(sorted(Dict.items()))"
   ]
  },
  {
   "cell_type": "code",
   "execution_count": 31,
   "metadata": {},
   "outputs": [
    {
     "name": "stdout",
     "output_type": "stream",
     "text": [
      "input: aabbss\n"
     ]
    },
    {
     "data": {
      "text/plain": [
       "3"
      ]
     },
     "execution_count": 31,
     "metadata": {},
     "output_type": "execute_result"
    }
   ],
   "source": [
    "data=input('input: ')\n",
    "a=set(data)\n",
    "len(a)"
   ]
  },
  {
   "cell_type": "markdown",
   "metadata": {},
   "source": [
    "- 天啊"
   ]
  }
 ],
 "metadata": {
  "kernelspec": {
   "display_name": "Python 3",
   "language": "python",
   "name": "python3"
  },
  "language_info": {
   "codemirror_mode": {
    "name": "ipython",
    "version": 3
   },
   "file_extension": ".py",
   "mimetype": "text/x-python",
   "name": "python",
   "nbconvert_exporter": "python",
   "pygments_lexer": "ipython3",
   "version": "3.8.3"
  }
 },
 "nbformat": 4,
 "nbformat_minor": 4
}
